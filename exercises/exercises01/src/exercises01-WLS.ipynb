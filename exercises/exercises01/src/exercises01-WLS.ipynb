{
 "cells": [
  {
   "cell_type": "markdown",
   "metadata": {},
   "source": [
    "# Part C:"
   ]
  },
  {
   "cell_type": "markdown",
   "metadata": {},
   "source": [
    "Let's first import some required libraries:"
   ]
  },
  {
   "cell_type": "code",
   "execution_count": 1,
   "metadata": {
    "collapsed": true
   },
   "outputs": [],
   "source": [
    "import numpy as np\n",
    "import scipy.linalg as la\n",
    "from scipy import sparse as sps\n",
    "from scipy.sparse import linalg as spla"
   ]
  },
  {
   "cell_type": "markdown",
   "metadata": {},
   "source": [
    "### Inverse method:"
   ]
  },
  {
   "cell_type": "code",
   "execution_count": 2,
   "metadata": {
    "collapsed": true
   },
   "outputs": [],
   "source": [
    "def inv_method(X, y, w):\n",
    "    '''\n",
    "   Solving WLS via inversion method\n",
    "    \n",
    "    Inputs:\n",
    "    X: An N x P array of features\n",
    "    y: An N-array of responses\n",
    "    w: An N-array of weights\n",
    "    \n",
    "    Outputs:\n",
    "    Beta, A P-array solution vector for weighted least squares\n",
    "    '''\n",
    "    X_TW = X.T * w\n",
    "    X_TWXinv = la.inv(np.dot(X_TW, X))\n",
    "    X_TWy = np.dot(X_TW, y)\n",
    "    Beta = np.dot(X_TWXinv, X_TWy)\n",
    "    return Beta"
   ]
  },
  {
   "cell_type": "markdown",
   "metadata": {},
   "source": [
    "### QR Factorization"
   ]
  },
  {
   "cell_type": "code",
   "execution_count": 3,
   "metadata": {
    "collapsed": true
   },
   "outputs": [],
   "source": [
    "def QR(X, y, w):\n",
    "    '''\n",
    "    Solve WLS using QR factorization\n",
    "    \n",
    "    Inputs:\n",
    "    X: An N x P array of features\n",
    "    y: An N-array of responses\n",
    "    w: An N-array of weights\n",
    "    \n",
    "    Outputs:\n",
    "    Beta, A P-array solution vector for weighted least squares\n",
    "    '''\n",
    "    \n",
    "    # Take W^.5X (note that this is a simple broadcast)\n",
    "    w_5X = (w**.5).reshape(w.shape[0],1) * X\n",
    "    # Compute the reduced QR factorization of W^.5 X\n",
    "    Q, R = la.qr(w_5X, mode='economic')\n",
    "    # Compute Q^T W^.5 y\n",
    "    QTW_5y = np.dot(Q.T * w**.5,y)\n",
    "    # Solve the upper triangular system\n",
    "    beta = la.solve_triangular(R, QTW_5y)\n",
    "    return beta"
   ]
  },
  {
   "cell_type": "markdown",
   "metadata": {},
   "source": [
    "### Cholesky Factorization"
   ]
  },
  {
   "cell_type": "markdown",
   "metadata": {},
   "source": [
    "The Cholesky decomposition is often used as a fast way of solving\n",
    "\n",
    "$$A \\mathbf{x} = \\mathbf{b}$$\n",
    "\n",
    "(when A is both Hermitian/symmetric and positive-definite).\n",
    "\n",
    "First, we solve for \\mathbf{y} in\n",
    "\n",
    "$$L \\mathbf{y} = \\mathbf{b},$$\n",
    "\n",
    "and then for $\\mathbf{x}$ in\n",
    "\n",
    "$$L.H \\mathbf{x} = \\mathbf{y}.$$\n",
    "\n"
   ]
  },
  {
   "cell_type": "code",
   "execution_count": 4,
   "metadata": {
    "collapsed": true
   },
   "outputs": [],
   "source": [
    "def Cholesky(X, y, w):\n",
    "    '''\n",
    "    Solve WLS using Cholesky factorization\n",
    "    \n",
    "    Inputs:\n",
    "    X: An N x P array of features\n",
    "    y: An N-array of responses\n",
    "    w: An N-array of weights\n",
    "    \n",
    "    Outputs:\n",
    "    Beta, A P-array solution vector for weighted least squares\n",
    "    '''\n",
    "    X_TW = X.T * w\n",
    "    X_TWX = np.dot(X_TW, X)\n",
    "\n",
    "    X_TWy = np.dot(X_TW, y)\n",
    "    L = la.cho_factor(X_TWX, lower=False, overwrite_a=False, check_finite=True)\n",
    "    Beta = la.cho_solve(L, X_TWy, overwrite_b=False, check_finite=True)\n",
    "    \n",
    "    return Beta"
   ]
  },
  {
   "cell_type": "code",
   "execution_count": 5,
   "metadata": {
    "collapsed": true
   },
   "outputs": [],
   "source": [
    "# Benchmarking for part C:\n",
    "\n",
    "N = 50000\n",
    "P = 1000\n",
    "X = np.random.rand(N, P) \n",
    "y = np.random.rand(N) \n",
    "W = np.ones(N)"
   ]
  },
  {
   "cell_type": "code",
   "execution_count": 6,
   "metadata": {},
   "outputs": [
    {
     "name": "stdout",
     "output_type": "stream",
     "text": [
      "1 loop, best of 3: 2.16 s per loop\n"
     ]
    }
   ],
   "source": [
    "%%timeit \n",
    "'''\n",
    "Cholesky Factorization method timing\n",
    "'''   \n",
    "B_1 = Cholesky(X,y, W)"
   ]
  },
  {
   "cell_type": "code",
   "execution_count": 7,
   "metadata": {},
   "outputs": [
    {
     "name": "stdout",
     "output_type": "stream",
     "text": [
      "1 loop, best of 3: 13.5 s per loop\n"
     ]
    }
   ],
   "source": [
    "%%timeit \n",
    "'''\n",
    "QR Factorization method timing\n",
    "'''   \n",
    "B_1 = QR(X,y, W)"
   ]
  },
  {
   "cell_type": "markdown",
   "metadata": {},
   "source": [
    "As we can see, the QR Factorization take more time than the both Cholesky and inversion methods, however this method is much more stable."
   ]
  },
  {
   "cell_type": "code",
   "execution_count": 8,
   "metadata": {},
   "outputs": [
    {
     "name": "stdout",
     "output_type": "stream",
     "text": [
      "1 loop, best of 3: 2.31 s per loop\n"
     ]
    }
   ],
   "source": [
    "%%timeit\n",
    "\"\"\"\n",
    "Inversion method timing\n",
    "\"\"\"\n",
    "B_2 = inv_method(X,y,W)"
   ]
  },
  {
   "cell_type": "markdown",
   "metadata": {},
   "source": [
    "# Part D:"
   ]
  },
  {
   "cell_type": "code",
   "execution_count": 9,
   "metadata": {
    "collapsed": true
   },
   "outputs": [],
   "source": [
    "def sparse_solver(X, y, w):\n",
    "    '''\n",
    "    Solves WLS by considering the sparsity of X.\n",
    "    \n",
    "    Inputs:\n",
    "    X: An N x P sparse matrix (from scipy.sparse). \n",
    "    y: An N array of responses\n",
    "    w: An N array of weights\n",
    "    \n",
    "    Outputs\n",
    "    Beta: A dense P array that is the solution vector to the sparse system.\n",
    "    '''\n",
    "    \n",
    "    # Begin by making sure that X is in csr format, which allows for matrix multiplication\n",
    "    if X.format != 'csr':\n",
    "        X = X.asformat('csr')\n",
    "        \n",
    "    # Set W to be a sparse diagonal matrix with values w\n",
    "    W = sps.diags(w, format='csr')\n",
    "    # Compute X_TW using the csr dot method.\n",
    "    # Note that it might be better to use some kind of sparse broadcast, but I have no idea how\n",
    "    X_TW = X.transpose().dot(W)\n",
    "    # Again, use the sparse csr dot method to compute the linear algebra solver\n",
    "    X_TWX = X_TW.dot(X)\n",
    "    X_TWy = X_TW.dot(y)\n",
    "    Beta = spla.spsolve(X_TWX, X_TWy)\n",
    "    return Beta"
   ]
  },
  {
   "cell_type": "code",
   "execution_count": 10,
   "metadata": {
    "collapsed": true
   },
   "outputs": [],
   "source": [
    "# Benchmarking part D\n",
    "N = 50000\n",
    "P = 1000\n",
    "X = sps.random(N, P)\n",
    "dense_X = X.toarray()\n",
    "w = np.random.rand(N)\n",
    "y = np.random.rand(N)"
   ]
  },
  {
   "cell_type": "code",
   "execution_count": 11,
   "metadata": {},
   "outputs": [
    {
     "name": "stdout",
     "output_type": "stream",
     "text": [
      "1 loop, best of 3: 2.3 s per loop\n"
     ]
    }
   ],
   "source": [
    "%%timeit \n",
    "Cholesky(dense_X,y, w) # Benchmark QR"
   ]
  },
  {
   "cell_type": "code",
   "execution_count": 12,
   "metadata": {},
   "outputs": [
    {
     "name": "stdout",
     "output_type": "stream",
     "text": [
      "1 loop, best of 3: 13.5 s per loop\n"
     ]
    }
   ],
   "source": [
    "%%timeit \n",
    "QR(dense_X,y, w) # Benchmark QR"
   ]
  },
  {
   "cell_type": "code",
   "execution_count": 13,
   "metadata": {},
   "outputs": [
    {
     "name": "stdout",
     "output_type": "stream",
     "text": [
      "1 loop, best of 3: 1.94 s per loop\n"
     ]
    }
   ],
   "source": [
    "%%timeit\n",
    "inv_method(dense_X,y,w) # Benchmark Inverse method"
   ]
  },
  {
   "cell_type": "code",
   "execution_count": 14,
   "metadata": {},
   "outputs": [
    {
     "name": "stdout",
     "output_type": "stream",
     "text": [
      "1 loop, best of 3: 278 ms per loop\n"
     ]
    }
   ],
   "source": [
    "%%timeit\n",
    "sparse_solver(X,y,w) # Benchmark sparse method"
   ]
  },
  {
   "cell_type": "markdown",
   "metadata": {},
   "source": [
    "**NOTE:** As we can see, the sparse_solver is faster than the other methods:"
   ]
  },
  {
   "cell_type": "code",
   "execution_count": 16,
   "metadata": {},
   "outputs": [
    {
     "name": "stdout",
     "output_type": "stream",
     "text": [
      "-----------sparsity levels = 0.01 -----------\n",
      "Cholesky Method:\n",
      "CPU times: user 3.05 s, sys: 483 ms, total: 3.53 s\n",
      "Wall time: 2.16 s\n",
      "\n",
      "\n",
      "QR Decomposition method:\n",
      "CPU times: user 21.8 s, sys: 1.15 s, total: 22.9 s\n",
      "Wall time: 13.9 s\n",
      "\n",
      "\n",
      "Inverse method:\n",
      "CPU times: user 3.81 s, sys: 249 ms, total: 4.06 s\n",
      "Wall time: 2.45 s\n",
      "\n",
      "\n",
      "sparse solver method:\n",
      "CPU times: user 704 ms, sys: 68.5 ms, total: 772 ms\n",
      "Wall time: 583 ms\n",
      "\n",
      "\n",
      "-----------sparsity levels = 0.05 -----------\n",
      "Cholesky Method:\n",
      "CPU times: user 3.01 s, sys: 159 ms, total: 3.17 s\n",
      "Wall time: 1.71 s\n",
      "\n",
      "\n",
      "QR Decomposition method:\n",
      "CPU times: user 21.9 s, sys: 1.33 s, total: 23.2 s\n",
      "Wall time: 13.8 s\n",
      "\n",
      "\n",
      "Inverse method:\n",
      "CPU times: user 3.85 s, sys: 269 ms, total: 4.12 s\n",
      "Wall time: 2.21 s\n",
      "\n",
      "\n",
      "sparse solver method:\n",
      "CPU times: user 2.57 s, sys: 123 ms, total: 2.7 s\n",
      "Wall time: 2.43 s\n",
      "\n",
      "\n",
      "-----------sparsity levels = 0.1 -----------\n",
      "Cholesky Method:\n",
      "CPU times: user 3.83 s, sys: 217 ms, total: 4.04 s\n",
      "Wall time: 2.25 s\n",
      "\n",
      "\n",
      "QR Decomposition method:\n",
      "CPU times: user 25.3 s, sys: 1.56 s, total: 26.8 s\n",
      "Wall time: 16.9 s\n",
      "\n",
      "\n",
      "Inverse method:\n",
      "CPU times: user 3.8 s, sys: 467 ms, total: 4.27 s\n",
      "Wall time: 2.46 s\n",
      "\n",
      "\n",
      "sparse solver method:\n",
      "CPU times: user 5.93 s, sys: 297 ms, total: 6.23 s\n",
      "Wall time: 5.97 s\n",
      "\n",
      "\n",
      "-----------sparsity levels = 0.2 -----------\n",
      "Cholesky Method:\n",
      "CPU times: user 3.51 s, sys: 176 ms, total: 3.69 s\n",
      "Wall time: 2 s\n",
      "\n",
      "\n",
      "QR Decomposition method:\n",
      "CPU times: user 23.3 s, sys: 1.23 s, total: 24.5 s\n",
      "Wall time: 15.6 s\n",
      "\n",
      "\n",
      "Inverse method:\n",
      "CPU times: user 4.02 s, sys: 206 ms, total: 4.22 s\n",
      "Wall time: 2.3 s\n",
      "\n",
      "\n",
      "sparse solver method:\n",
      "CPU times: user 14.4 s, sys: 530 ms, total: 15 s\n",
      "Wall time: 15.2 s\n",
      "\n",
      "\n",
      "-----------sparsity levels = 0.5 -----------\n",
      "Cholesky Method:\n",
      "CPU times: user 3.34 s, sys: 171 ms, total: 3.51 s\n",
      "Wall time: 1.88 s\n",
      "\n",
      "\n",
      "QR Decomposition method:\n",
      "CPU times: user 21.9 s, sys: 1.76 s, total: 23.7 s\n",
      "Wall time: 14 s\n",
      "\n",
      "\n",
      "Inverse method:\n",
      "CPU times: user 4.08 s, sys: 564 ms, total: 4.65 s\n",
      "Wall time: 2.68 s\n",
      "\n",
      "\n",
      "sparse solver method:\n",
      "CPU times: user 53.7 s, sys: 1.89 s, total: 55.6 s\n",
      "Wall time: 56.9 s\n",
      "\n",
      "\n",
      "-----------sparsity levels = 1.0 -----------\n",
      "Cholesky Method:\n",
      "CPU times: user 3.31 s, sys: 161 ms, total: 3.48 s\n",
      "Wall time: 1.86 s\n",
      "\n",
      "\n",
      "QR Decomposition method:\n",
      "CPU times: user 22 s, sys: 1.46 s, total: 23.5 s\n",
      "Wall time: 14.2 s\n",
      "\n",
      "\n",
      "Inverse method:\n",
      "CPU times: user 4.4 s, sys: 517 ms, total: 4.91 s\n",
      "Wall time: 2.82 s\n",
      "\n",
      "\n",
      "sparse solver method:\n",
      "CPU times: user 2min 59s, sys: 7.39 s, total: 3min 6s\n",
      "Wall time: 3min 13s\n",
      "\n",
      "\n"
     ]
    }
   ],
   "source": [
    "# Benchmarking for different sparsity levels:\n",
    "for d in [0.01, 0.05, 0.1, 0.2, 0.5, 1.0]:\n",
    "    print('-----------sparsity levels =', d, '-----------')\n",
    "    N = 50000\n",
    "    P = 1000\n",
    "    X = sps.random(N, P, density=d)\n",
    "    dense_X = X.toarray()\n",
    "    w = np.random.rand(N)\n",
    "    y = np.random.rand(N)\n",
    "    print('Cholesky Method:')\n",
    "    %time B0 = Cholesky(dense_X,y,w)\n",
    "    print('\\n')\n",
    "    print('QR Decomposition method:')\n",
    "    %time B1 = QR(dense_X,y,w)\n",
    "    print('\\n')\n",
    "    print('Inverse method:')\n",
    "    %time B2 = inv_method(dense_X,y,w)\n",
    "    print('\\n')\n",
    "    print('sparse solver method:')\n",
    "    %time B3 = sparse_solver(X,y,w)\n",
    "    print(\"\\n\")"
   ]
  }
 ],
 "metadata": {
  "anaconda-cloud": {},
  "kernelspec": {
   "display_name": "Python [conda env:py35]",
   "language": "python",
   "name": "conda-env-py35-py"
  },
  "language_info": {
   "codemirror_mode": {
    "name": "ipython",
    "version": 3
   },
   "file_extension": ".py",
   "mimetype": "text/x-python",
   "name": "python",
   "nbconvert_exporter": "python",
   "pygments_lexer": "ipython3",
   "version": "3.5.3"
  }
 },
 "nbformat": 4,
 "nbformat_minor": 2
}
