{
 "cells": [
  {
   "cell_type": "markdown",
   "metadata": {},
   "source": [
    "### Load Packages:"
   ]
  },
  {
   "cell_type": "code",
   "execution_count": 1,
   "metadata": {
    "collapsed": true
   },
   "outputs": [],
   "source": [
    "import numpy as np\n",
    "import matplotlib.pyplot as plt\n",
    "import h5py\n",
    "import scipy\n",
    "from PIL import Image\n",
    "from scipy import ndimage\n",
    "import csv\n",
    "import math\n",
    "import os\n",
    "import sys\n",
    "from sklearn.preprocessing import scale\n",
    "\n",
    "%matplotlib inline"
   ]
  },
  {
   "cell_type": "markdown",
   "metadata": {},
   "source": [
    "## Load data:"
   ]
  },
  {
   "cell_type": "code",
   "execution_count": 21,
   "metadata": {},
   "outputs": [
    {
     "name": "stdout",
     "output_type": "stream",
     "text": [
      "(11, 569)\n"
     ]
    }
   ],
   "source": [
    "def load_data(file_name):\n",
    "    \"\"\"\n",
    "    This function load the data into the data structures that we need.\n",
    "    \"\"\"\n",
    "    X = np.loadtxt(file_name, dtype='float', delimiter=',', usecols=np.arange(3,13))\n",
    "    X1 = scale(X, axis=1)\n",
    "    X = np.hstack((np.ones((X.shape[0],1)), X1))\n",
    "\n",
    "    cl = np.loadtxt(file_name, dtype='str', delimiter=',', usecols=[1])\n",
    "    # Set Malignant to be 1 and Benign to be 0\n",
    "    y = (cl == 'M').astype(float)\n",
    "\n",
    "    train_set_x = X.T\n",
    "    train_set_y = y.reshape(y.shape[0],1).T\n",
    "\n",
    "    test_set_x = train_set_x\n",
    "    test_set_y = train_set_y\n",
    "    \n",
    "    return (train_set_x, train_set_y, test_set_x, test_set_y)\n",
    "\n",
    "file_name = '../../../data/wdbc.csv'\n",
    "train_set_x, train_set_y, _,_ = load_data(file_name)\n",
    "print(train_set_x.shape)\n"
   ]
  },
  {
   "cell_type": "code",
   "execution_count": 3,
   "metadata": {
    "collapsed": true
   },
   "outputs": [],
   "source": [
    "def sigmoid(z):\n",
    "    \"\"\"\n",
    "    Compute the sigmoid of z\n",
    "\n",
    "    Arguments:\n",
    "    z -- A scalar or numpy array of any size.\n",
    "\n",
    "    Return:\n",
    "    s -- sigmoid(z)\n",
    "    \"\"\"\n",
    "\n",
    "    ### START CODE HERE ### (≈ 1 line of code)\n",
    "    s = 1. / (1. + np.exp(-z))\n",
    "    ### END CODE HERE ###\n",
    "    \n",
    "    return s"
   ]
  },
  {
   "cell_type": "code",
   "execution_count": 4,
   "metadata": {
    "collapsed": true
   },
   "outputs": [],
   "source": [
    "def initialize_with_zeros(dim):\n",
    "    \"\"\"\n",
    "    This function creates a vector of zeros of shape (dim, 1) for w and initializes b to 0.\n",
    "    \n",
    "    Argument:\n",
    "    dim -- size of the w vector we want (or number of parameters in this case)\n",
    "    \n",
    "    Returns:\n",
    "    w -- initialized vector of shape (dim, 1)\n",
    "    b -- initialized scalar (corresponds to the bias)\n",
    "    \"\"\"\n",
    "    \n",
    "    ### START CODE HERE ### (≈ 1 line of code)\n",
    "    w = np.zeros((dim,1))\n",
    "    b = 0.0\n",
    "    ### END CODE HERE ###\n",
    "\n",
    "    assert(w.shape == (dim, 1))\n",
    "    assert(isinstance(b, float) or isinstance(b, int))\n",
    "    \n",
    "    return w, b"
   ]
  },
  {
   "cell_type": "code",
   "execution_count": 5,
   "metadata": {
    "collapsed": true
   },
   "outputs": [],
   "source": [
    "def propagate(w, b, X, Y):\n",
    "    \"\"\"\n",
    "    Implement the cost function and its gradient for the propagation explained above\n",
    "\n",
    "    Arguments:\n",
    "    w -- weights, a numpy array of size (num_px * num_px * 3, 1)\n",
    "    b -- bias, a scalar\n",
    "    X -- data of size (num_px * num_px * 3, number of examples)\n",
    "    Y -- true \"label\" vector (containing 0 if non-cat, 1 if cat) of size (1, number of examples)\n",
    "\n",
    "    Return:\n",
    "    cost -- negative log-likelihood cost for logistic regression\n",
    "    dw -- gradient of the loss with respect to w, thus same shape as w\n",
    "    db -- gradient of the loss with respect to b, thus same shape as b\n",
    "    \n",
    "    Tips:\n",
    "    - Write your code step by step for the propagation. np.log(), np.dot()\n",
    "    \"\"\"\n",
    "    \n",
    "    m = X.shape[1]\n",
    "    \n",
    "    # FORWARD PROPAGATION (FROM X TO COST)\n",
    "    ### START CODE HERE ### (≈ 2 lines of code)\n",
    "    A = sigmoid(np.dot(w.T, X) + b)                                     # compute activation\n",
    "    cost = -1./m * (np.dot(np.log(A), Y.T) + np.dot(np.log(1-A),(1-Y).T))  # compute cost\n",
    "#     cost = - (np.dot(np.log(A), Y.T) + np.dot(np.log(1-A),(1-Y).T))  # compute cost\n",
    "\n",
    "    ### END CODE HERE ###\n",
    "    \n",
    "    # BACKWARD PROPAGATION (TO FIND GRAD)\n",
    "    ### START CODE HERE ### (≈ 2 lines of code)\n",
    "    dw = 1./m * np.dot(X, (A-Y).T)\n",
    "    db = 1./m * np.sum(A-Y)\n",
    "    ### END CODE HERE ###\n",
    "\n",
    "    assert(dw.shape == w.shape)\n",
    "    assert(db.dtype == float)\n",
    "    cost = np.squeeze(cost)\n",
    "    assert(cost.shape == ())\n",
    "    \n",
    "    grads = {\"dw\": dw,\n",
    "             \"db\": db}\n",
    "    \n",
    "    return grads, cost"
   ]
  },
  {
   "cell_type": "code",
   "execution_count": 6,
   "metadata": {
    "collapsed": true
   },
   "outputs": [],
   "source": [
    "def optimize(w, b, X, Y, num_iterations, learning_rate, print_cost = False):\n",
    "    \"\"\"\n",
    "    This function optimizes w and b by running a gradient descent algorithm\n",
    "    \n",
    "    Arguments:\n",
    "    w -- weights, a numpy array of size (num_px * num_px * 3, 1)\n",
    "    b -- bias, a scalar\n",
    "    X -- data of shape (num_px * num_px * 3, number of examples)\n",
    "    Y -- true \"label\" vector (containing 0 if non-cat, 1 if cat), of shape (1, number of examples)\n",
    "    num_iterations -- number of iterations of the optimization loop\n",
    "    learning_rate -- learning rate of the gradient descent update rule\n",
    "    print_cost -- True to print the loss every 100 steps\n",
    "    \n",
    "    Returns:\n",
    "    params -- dictionary containing the weights w and bias b\n",
    "    grads -- dictionary containing the gradients of the weights and bias with respect to the cost function\n",
    "    costs -- list of all the costs computed during the optimization, this will be used to plot the learning curve.\n",
    "    \n",
    "    Tips:\n",
    "    You basically need to write down two steps and iterate through them:\n",
    "        1) Calculate the cost and the gradient for the current parameters. Use propagate().\n",
    "        2) Update the parameters using gradient descent rule for w and b.\n",
    "    \"\"\"\n",
    "    \n",
    "    costs = []\n",
    "    \n",
    "    for i in range(num_iterations):\n",
    "        \n",
    "        \n",
    "        # Cost and gradient calculation (≈ 1-4 lines of code)\n",
    "        ### START CODE HERE ### \n",
    "        grads, cost = propagate(b=b, w=w, X=X, Y=Y)\n",
    "        ### END CODE HERE ###\n",
    "        \n",
    "        # Retrieve derivatives from grads\n",
    "        dw = grads[\"dw\"]\n",
    "        db = grads[\"db\"]\n",
    "        \n",
    "        # update rule (≈ 2 lines of code)\n",
    "        ### START CODE HERE ###\n",
    "        w = w - learning_rate * dw\n",
    "        b = b - learning_rate * db\n",
    "        ### END CODE HERE ###\n",
    "        \n",
    "        # Record the costs\n",
    "        if i % 100 == 0:\n",
    "            costs.append(cost)\n",
    "        \n",
    "        # Print the cost every 100 training examples\n",
    "        if print_cost and i % 100 == 0:\n",
    "            print (\"Cost after iteration %i: %f\" %(i, cost))\n",
    "    \n",
    "    params = {\"w\": w,\n",
    "              \"b\": b}\n",
    "    \n",
    "    grads = {\"dw\": dw,\n",
    "             \"db\": db}\n",
    "    \n",
    "    return params, grads, costs"
   ]
  },
  {
   "cell_type": "code",
   "execution_count": 7,
   "metadata": {
    "collapsed": true
   },
   "outputs": [],
   "source": [
    "def predict(w, b, X):\n",
    "    '''\n",
    "    Predict whether the label is 0 or 1 using learned logistic regression parameters (w, b)\n",
    "    \n",
    "    Arguments:\n",
    "    w -- weights, a numpy array of size (num_px * num_px * 3, 1)\n",
    "    b -- bias, a scalar\n",
    "    X -- data of size (num_px * num_px * 3, number of examples)\n",
    "    \n",
    "    Returns:\n",
    "    Y_prediction -- a numpy array (vector) containing all predictions (0/1) for the examples in X\n",
    "    '''\n",
    "    \n",
    "    m = X.shape[1]\n",
    "    Y_prediction = np.zeros((1,m))\n",
    "    w = w.reshape(X.shape[0], 1)\n",
    "    \n",
    "    # Compute vector \"A\" predicting the probabilities of a cat being present in the picture\n",
    "    ### START CODE HERE ### (≈ 1 line of code)\n",
    "    A = sigmoid(np.dot(w.T,X) + b)\n",
    "    ### END CODE HERE ###\n",
    "    \n",
    "    for i in range(A.shape[1]):\n",
    "        \n",
    "        # Convert probabilities A[0,i] to actual predictions p[0,i]\n",
    "        ### START CODE HERE ### (≈ 4 lines of code)\n",
    "        if A[0,i] <= 0.5:\n",
    "            Y_prediction[0,i] = 0.0\n",
    "        else:\n",
    "            Y_prediction[0,i] = 1.0\n",
    "        ### END CODE HERE ###\n",
    "    \n",
    "    assert(Y_prediction.shape == (1, m))\n",
    "    \n",
    "    return Y_prediction"
   ]
  },
  {
   "cell_type": "code",
   "execution_count": 8,
   "metadata": {
    "collapsed": true
   },
   "outputs": [],
   "source": [
    "def model(X_train, Y_train, X_test, Y_test, num_iterations = 2000, learning_rate = 0.5, print_cost = False):\n",
    "    \"\"\"\n",
    "    Builds the logistic regression model by calling the function you've implemented previously\n",
    "    \n",
    "    Arguments:\n",
    "    X_train -- training set represented by a numpy array of shape (num_px * num_px * 3, m_train)\n",
    "    Y_train -- training labels represented by a numpy array (vector) of shape (1, m_train)\n",
    "    X_test -- test set represented by a numpy array of shape (num_px * num_px * 3, m_test)\n",
    "    Y_test -- test labels represented by a numpy array (vector) of shape (1, m_test)\n",
    "    num_iterations -- hyperparameter representing the number of iterations to optimize the parameters\n",
    "    learning_rate -- hyperparameter representing the learning rate used in the update rule of optimize()\n",
    "    print_cost -- Set to true to print the cost every 100 iterations\n",
    "    \n",
    "    Returns:\n",
    "    d -- dictionary containing information about the model.\n",
    "    \"\"\"\n",
    "    \n",
    "    ### START CODE HERE ###\n",
    "    \n",
    "    # initialize parameters with zeros (≈ 1 line of code)\n",
    "    w, b = initialize_with_zeros(X_train.shape[0])\n",
    "\n",
    "\n",
    "    # Gradient descent (≈ 1 line of code)\n",
    "    parameters, grads, costs = optimize(w, b, X_train, Y_train, num_iterations, learning_rate, print_cost )\n",
    "    \n",
    "    # Retrieve parameters w and b from dictionary \"parameters\"\n",
    "    w = parameters[\"w\"]\n",
    "    b = parameters[\"b\"]\n",
    "\n",
    "    \n",
    "    # Predict test/train set examples (≈ 2 lines of code)\n",
    "    Y_prediction_test = predict(w, b, X_test)\n",
    "    Y_prediction_train = predict(w, b, X_train)\n",
    "    \n",
    "\n",
    "    ### END CODE HERE ###\n",
    "\n",
    "    # Print train/test Errors\n",
    "    print(\"train accuracy: {} %\".format(100 - np.mean(np.abs(Y_prediction_train - Y_train)) * 100))\n",
    "#     print(\"test accuracy: {} %\".format(100 - np.mean(np.abs(Y_prediction_test - Y_test)) * 100))\n",
    "\n",
    "    \n",
    "    d = {\"costs\": costs,\n",
    "         \"Y_prediction_test\": Y_prediction_test, \n",
    "         \"Y_prediction_train\" : Y_prediction_train, \n",
    "         \"w\" : w, \n",
    "         \"b\" : b,\n",
    "         \"learning_rate\" : learning_rate,\n",
    "         \"num_iterations\": num_iterations}\n",
    "    \n",
    "    return d"
   ]
  },
  {
   "cell_type": "code",
   "execution_count": 9,
   "metadata": {},
   "outputs": [
    {
     "name": "stdout",
     "output_type": "stream",
     "text": [
      "Cost after iteration 0: 0.693147\n",
      "Cost after iteration 100: 0.171358\n",
      "Cost after iteration 200: 0.089583\n",
      "Cost after iteration 300: 0.059707\n",
      "Cost after iteration 400: 0.044543\n",
      "Cost after iteration 500: 0.035440\n",
      "Cost after iteration 600: 0.029390\n",
      "Cost after iteration 700: 0.025087\n",
      "Cost after iteration 800: 0.021872\n",
      "Cost after iteration 900: 0.019382\n",
      "Cost after iteration 1000: 0.017397\n",
      "Cost after iteration 1100: 0.015778\n",
      "Cost after iteration 1200: 0.014434\n",
      "Cost after iteration 1300: 0.013299\n",
      "Cost after iteration 1400: 0.012328\n",
      "Cost after iteration 1500: 0.011489\n",
      "Cost after iteration 1600: 0.010757\n",
      "Cost after iteration 1700: 0.010111\n",
      "Cost after iteration 1800: 0.009539\n",
      "Cost after iteration 1900: 0.009028\n",
      "train accuracy: 100.0 %\n"
     ]
    }
   ],
   "source": [
    "file_name = '../../../data/wdbc.csv'\n",
    "\n",
    "(train_set_x, train_set_y, test_set_x, test_set_y) = load_data(file_name)\n",
    "d = model(train_set_x, train_set_y, test_set_x, test_set_y, num_iterations = 2000, learning_rate = 0.005, print_cost = True)"
   ]
  },
  {
   "cell_type": "code",
   "execution_count": 10,
   "metadata": {},
   "outputs": [
    {
     "name": "stdout",
     "output_type": "stream",
     "text": [
      "[[-0.39679042]\n",
      " [ 0.11131231]\n",
      " [-0.05085457]\n",
      " [-1.17461196]\n",
      " [ 0.1592432 ]\n",
      " [ 0.15924667]\n",
      " [ 0.1593119 ]\n",
      " [ 0.15939523]\n",
      " [ 0.15902568]\n",
      " [ 0.15932443]\n",
      " [ 0.15860711]]\n"
     ]
    }
   ],
   "source": [
    "print(d['w'])"
   ]
  },
  {
   "cell_type": "code",
   "execution_count": 11,
   "metadata": {},
   "outputs": [
    {
     "data": {
      "image/png": "[encoded data removed]",
      "text/plain": [
       "<matplotlib.figure.Figure at 0x1105786a0>"
      ]
     },
     "metadata": {},
     "output_type": "display_data"
    }
   ],
   "source": [
    "# Plot learning curve (with costs)\n",
    "costs = np.squeeze(d['costs'])\n",
    "plt.plot(costs)\n",
    "plt.ylabel('cost')\n",
    "plt.xlabel('iterations (per hundreds)')\n",
    "plt.title(\"Learning rate =\" + str(d[\"learning_rate\"]))\n",
    "plt.show()"
   ]
  },
  {
   "cell_type": "code",
   "execution_count": 12,
   "metadata": {},
   "outputs": [
    {
     "name": "stdout",
     "output_type": "stream",
     "text": [
      "learning rate is: 0.1\n",
      "train accuracy: 100.0 %\n",
      "\n",
      "-------------------------------------------------------\n",
      "\n",
      "learning rate is: 0.01\n",
      "train accuracy: 100.0 %\n",
      "\n",
      "-------------------------------------------------------\n",
      "\n",
      "learning rate is: 0.001\n",
      "train accuracy: 100.0 %\n",
      "\n",
      "-------------------------------------------------------\n",
      "\n",
      "learning rate is: 0.0001\n",
      "train accuracy: 100.0 %\n",
      "\n",
      "-------------------------------------------------------\n",
      "\n"
     ]
    },
    {
     "data": {
      "image/png": "[encoded data removed]",
      "text/plain": [
       "<matplotlib.figure.Figure at 0x1139e17b8>"
      ]
     },
     "metadata": {},
     "output_type": "display_data"
    }
   ],
   "source": [
    "learning_rates = [0.1, 0.01, 0.001, 0.0001]\n",
    "models = {}\n",
    "for i in learning_rates:\n",
    "    print (\"learning rate is: \" + str(i))\n",
    "    models[str(i)] = model(train_set_x, train_set_y, test_set_x, test_set_y, num_iterations = 2500, learning_rate = i, print_cost = False)\n",
    "    print ('\\n' + \"-------------------------------------------------------\" + '\\n')\n",
    "\n",
    "for i in learning_rates:\n",
    "    plt.plot(np.squeeze(models[str(i)][\"costs\"]), label= str(models[str(i)][\"learning_rate\"]))\n",
    "\n",
    "plt.ylabel('cost')\n",
    "plt.xlabel('iterations')\n",
    "\n",
    "legend = plt.legend(loc='upper right', shadow=True)\n",
    "frame = legend.get_frame()\n",
    "frame.set_facecolor('0.90')\n",
    "plt.show()"
   ]
  },
  {
   "cell_type": "code",
   "execution_count": 13,
   "metadata": {
    "collapsed": true
   },
   "outputs": [],
   "source": [
    "import numpy as np\n",
    "from scipy import linalg as la\n",
    "from matplotlib import pyplot as plt\n",
    "from scipy.stats import binom\n",
    "import scipy.misc as misc\n",
    "from sklearn.preprocessing import scale"
   ]
  },
  {
   "cell_type": "code",
   "execution_count": 14,
   "metadata": {
    "collapsed": true
   },
   "outputs": [],
   "source": [
    "def grad_lb(X, y, beta, m):\n",
    "    '''\n",
    "    This function calculates the gradient of the negative log-likelihood for the\n",
    "    given values.\n",
    "    \n",
    "    X: An m x n array of features\n",
    "    beta: An n vector of the current \"solution\" to the system\n",
    "    y: An m vector of the number of successes, where y_i is the integer number of success for \n",
    "        a given trial. (Note that for our wdbc data, this is only 1 or 0)\n",
    "    m: An m a vector of the number of trials (where m_i is the number of trials for the ith case)\n",
    "        (Note that for our wdbc data, this is simply a vector of ones)\n",
    "    '''\n",
    "    \n",
    "    Xbeta = np.dot(X, beta)\n",
    "    # Takes the logistic function of Xbeta (inverse logit transform)\n",
    "    w = sigmoid(Xbeta)\n",
    "    # Calculate m_i * w_i - y_i using broadcasting\n",
    "    mw_yX = (m * w - y).reshape(y.shape[0],1) * X\n",
    "    # sum (m_iw_i - y_i)X over the rows\n",
    "    gradlb = mw_yX.sum(axis=0)\n",
    "    return gradlb\n"
   ]
  },
  {
   "cell_type": "code",
   "execution_count": 15,
   "metadata": {
    "collapsed": true
   },
   "outputs": [],
   "source": [
    "def grad2_lb(X, y, beta, m):\n",
    "    '''\n",
    "    This function calculates the gradient^2 of the negative log-likelihood for the\n",
    "    given values.\n",
    "\n",
    "    \n",
    "    X: An m x n array of features\n",
    "    beta: An n vector of the current \"solution\" to the system\n",
    "    y: An m vector of the number of successes, where y_i is the integer number of success for \n",
    "        a given trial. (Note that for our wdbc data, this is only 1 or 0)\n",
    "    m: A vector of the number of trials (where m_i is the number of trials for the ith case)\n",
    "        (Note that for our wdbc data, this is simply a vector of ones)\n",
    "    '''\n",
    "    N, P = X.shape\n",
    "    Xbeta = np.dot(X,beta)\n",
    "    # Takes the logistic function of Xbeta (inverse logit transform)\n",
    "    w = sigmoid(Xbeta)\n",
    "    # Calculate m_iw_i(1-w_i) as the vector of scalar matrix \"coefficients\" for our sum\n",
    "    # Here we use simple broadcasting\n",
    "    coeff = m * w * (1. - w)\n",
    "    grad2 = np.zeros((P,P))\n",
    "    for i in np.arange(N):\n",
    "        grad2 += coeff[i] * np.outer(X[i], X[i])\n",
    "    return grad2\n"
   ]
  },
  {
   "cell_type": "code",
   "execution_count": 16,
   "metadata": {
    "collapsed": true
   },
   "outputs": [],
   "source": [
    "def negloglike(X, y, beta, m):\n",
    "    '''\n",
    "    This function computes the negative log likelihood given features X, successes y,\n",
    "    trials m and solution vector beta.\n",
    "    '''\n",
    "    Xbeta = np.dot(X, beta)\n",
    "    w = sigmoid(Xbeta)\n",
    "    # Use scipy's binomial object to compute the log of the pmf, then take the sum   \n",
    "    return -binom.logpmf(y, m, w).sum()\n"
   ]
  },
  {
   "cell_type": "code",
   "execution_count": 17,
   "metadata": {
    "collapsed": true
   },
   "outputs": [],
   "source": [
    "def NM_inverse(X, y, beta, m, iters=1000, tol=1e-3):\n",
    "    '''\n",
    "    This function implements newton's method on the negative log likelihood using\n",
    "    simple inversion of the Hessian matrix (likely to be unstable)\n",
    "    \n",
    "    X: An m x n array of features\n",
    "    beta: An n vector of the current \"solution\" to the system\n",
    "    y: An m vector of the number of successes, where y_i is the integer number of success for \n",
    "        a given trial. (Note that for our wdbc data, this is only 1 or 0)\n",
    "    m: An m a vector of the number of trials (where m_i is the number of trials for the ith case)\n",
    "        (Note that for our wdbc data, this is simply a vector of ones)\n",
    "    iters: An optional int indicating the maximum number of iterations to implement Newton's method\n",
    "    \n",
    "    '''\n",
    "    ll = []\n",
    "    betas = []\n",
    "    beta0 = beta\n",
    "    for i in np.arange(iters):\n",
    "        ll.append(negloglike(X,y,beta0,m))\n",
    "        betas.append(beta0)\n",
    "        \n",
    "        beta1 = beta0 - np.dot(la.inv(grad2_lb(X, y, beta0, m)), grad_lb(X,y,beta0,m))\n",
    "        llb0 = negloglike(X,y,beta0,m)\n",
    "        llb1 = negloglike(X,y,beta1,m)\n",
    "        \n",
    "        # Here we measure convergence based on the absolute difference of l(beta0) and l(beta1)\n",
    "        if np.abs(llb0 - llb1) > tol:\n",
    "            beta0 = beta1\n",
    "        else:\n",
    "            ll.append(negloglike(X,y,beta0,m))\n",
    "            betas.append(beta1)\n",
    "            return beta1, ll, betas, i\n",
    "    \n",
    "    return beta1, ll, betas, i\n"
   ]
  },
  {
   "cell_type": "code",
   "execution_count": 18,
   "metadata": {},
   "outputs": [
    {
     "name": "stdout",
     "output_type": "stream",
     "text": [
      "number of iterations to convergence for Newton method: 21\n",
      "train accuracy: 100.0 %\n"
     ]
    },
    {
     "data": {
      "image/png": "[encoded data removed]",
      "text/plain": [
       "<matplotlib.figure.Figure at 0x107bb93c8>"
      ]
     },
     "metadata": {},
     "output_type": "display_data"
    }
   ],
   "source": [
    "# Load in columns 3-12 of the wdbc data\n",
    "X = np.loadtxt('../../../data/wdbc.csv', dtype='float', delimiter=',', usecols=np.arange(3,13))\n",
    "X1 = scale(X, axis=1) # Scale X\n",
    "X = np.hstack((np.ones((X.shape[0],1)), X1))\n",
    "cl = np.loadtxt('../../../data/wdbc.csv', dtype='str', delimiter=',', usecols=[1])\n",
    "\n",
    "# Set Malignant to be 1 and Benign to be 0\n",
    "y = (cl == 'M').astype(float)\n",
    "M = np.ones(y.shape[0])\n",
    "m,n = X.shape\n",
    "\n",
    "\n",
    "# Plot the convergence of the log likelihood \n",
    "for i in [np.zeros(n)]:\n",
    "\n",
    "    beta0, ll, betas, i = NM_inverse(X,y,i,M, tol=1e-5)\n",
    "    plt.plot(ll)\n",
    "\n",
    "plt.title(\"Newton's Method vs Gradient Descent\")\n",
    "plt.xlabel(\"iterations\")\n",
    "plt.ylabel(\"Cost\")\n",
    "# plt.show()\n",
    "print('number of iterations to convergence for Newton method:', i)\n",
    "\n",
    "\n",
    "\n",
    "file_name = '../../../data/wdbc.csv'\n",
    "\n",
    "(train_set_x, train_set_y, test_set_x, test_set_y) = load_data(file_name)\n",
    "d = model(train_set_x, train_set_y, test_set_x, test_set_y, num_iterations = 2000, learning_rate = 0.001, print_cost = False)\n",
    "\n",
    "# Plot learning curve (with costs)\n",
    "costs = np.squeeze(d['costs'])\n",
    "plt.plot(costs)\n",
    "# plt.ylabel('cost')\n",
    "# plt.xlabel('iterations (per hundreds)')\n",
    "# plt.title(\"Learning rate =\" + str(d[\"learning_rate\"]))\n",
    "plt.show()"
   ]
  }
 ],
 "metadata": {
  "anaconda-cloud": {},
  "kernelspec": {
   "display_name": "Python [conda env:py35]",
   "language": "python",
   "name": "conda-env-py35-py"
  },
  "language_info": {
   "codemirror_mode": {
    "name": "ipython",
    "version": 3
   },
   "file_extension": ".py",
   "mimetype": "text/x-python",
   "name": "python",
   "nbconvert_exporter": "python",
   "pygments_lexer": "ipython3",
   "version": "3.5.3"
  }
 },
 "nbformat": 4,
 "nbformat_minor": 2
}
