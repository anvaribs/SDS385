{
 "cells": [
  {
   "cell_type": "code",
   "execution_count": 1,
   "metadata": {
    "nbpresent": {
     "id": "9685344e-065c-43f5-82ad-623970275aed"
    }
   },
   "outputs": [],
   "source": [
    "import numpy as np\n",
    "from scipy import linalg as la\n",
    "from matplotlib import pyplot as plt\n",
    "from sklearn.preprocessing import scale\n",
    "from sklearn.linear_model import Lasso\n",
    "from sklearn.linear_model import lasso_path\n",
    "%matplotlib inline"
   ]
  },
  {
   "cell_type": "code",
   "execution_count": 2,
   "metadata": {
    "nbpresent": {
     "id": "8f94c6ab-412d-422b-9404-728cbe74e692"
    }
   },
   "outputs": [],
   "source": [
    "def soft_thresh(y, lam):\n",
    "    #try:\n",
    "        #n = y.shape[0]\n",
    "    #except:\n",
    "        #n=1\n",
    "    n = y.shape[0]\n",
    "    return np.sign(y) * np.maximum((np.abs(y) - lam), np.zeros(n))"
   ]
  },
  {
   "cell_type": "code",
   "execution_count": 5,
   "metadata": {
    "nbpresent": {
     "id": "6915b00d-17d1-432b-bb04-8c90e62f6741"
    }
   },
   "outputs": [],
   "source": [
    "def ADMM(X, y, b0, z0, u0, rho=5., lam=.1, e_abs = 1e-4, e_rel=1e-2, max_iters=1000):\n",
    "    '''\n",
    "    Implement the ADMM algorithm for the lasso.\n",
    "    \n",
    "    Inputs\n",
    "    ----------------------\n",
    "    X: An NxP sample array, where there are N samples with P features\n",
    "    y: An N result array\n",
    "    b0: A P vector, An initial guess for the beta vector\n",
    "    z0: A P vector, An initial guess for the z vector\n",
    "    u0: A P vector, An initial guess for the dual variable vector\n",
    "    rho: float > 0, optional.  The \"stepsize\" parameter, analogous with the augmented lagrangian\n",
    "        penalty parameter\n",
    "    lam: float > 0, optional. The lasso penalty parameter\n",
    "    e_abs: float > 0, optional. An absolute tolerance used to calculate the stopping \n",
    "        criterion.\n",
    "    e_rel: float > 0, optional. A relative tolerance used to calculate the stopping\n",
    "        criterion.\n",
    "    max_iters: Int, optional. The maximum number of iterations for which to run the \n",
    "        algorithm\n",
    "    Outputs\n",
    "    -----------------------\n",
    "    z1: The returned coefficient vector\n",
    "    Z: A list of the z values for each step\n",
    "    R: A list of the primal residuals\n",
    "    S: A list of the dual residuals\n",
    "    Ep: A list of the primal error tolerances at each step\n",
    "    Ed: A list of the dual error tolerances at each step\n",
    "    Obj: A list of the objective function values at each iteration\n",
    "    '''\n",
    "    # Set various variables\n",
    "    N,P = X.shape\n",
    "    sqPe = np.sqrt(P) * e_abs\n",
    "    Z = [z0]\n",
    "    #U = [u0]\n",
    "    R = []\n",
    "    S = []\n",
    "    Ep = []\n",
    "    Ed = []\n",
    "    Obj = []\n",
    "    \n",
    "    mu = 10\n",
    "    tau_incr = 2\n",
    "    tau_decr = 2\n",
    "    \n",
    "    # Cache reused values for the algorithm\n",
    "    beta_coef = np.dot(X.T, X) \n",
    "    I = np.eye(P)\n",
    "    X_Ty = np.dot(X.T, y)\n",
    "    \n",
    "    z1 = z0\n",
    "    u1 = u0\n",
    "    b1 = b0\n",
    "    \n",
    "    for i in np.arange(max_iters):\n",
    "        # Update each vector\n",
    "        z0 = np.copy(z1)\n",
    "        b1 = la.solve(beta_coef + rho*I, X_Ty + rho * (z1 - u1))\n",
    "        z1 = soft_thresh(b1 + u1, lam / rho)\n",
    "        u1 += b1 - z1\n",
    "        \n",
    "        # Calculate the error tolerances\n",
    "        r = b1 - z1\n",
    "        s = -rho * (z1 - z0)\n",
    "        norm_r = la.norm(r)\n",
    "        norm_s = la.norm(s)\n",
    "        e_pri = sqPe + e_rel * max(la.norm(b1), la.norm(z1))\n",
    "        e_dual = sqPe + e_rel * la.norm(u1)\n",
    "        \n",
    "        # Append each new vector to their respective lists\n",
    "        Z.append(z1)\n",
    "        # U.append(u1) This step won't work when using views.\n",
    "        \n",
    "        R.append(norm_r)\n",
    "        S.append(norm_s)\n",
    "        Ep.append(e_pri)\n",
    "        Ed.append(e_dual)\n",
    "        Obj.append(.5 * la.norm(y - np.dot(X,b1))**2 + lam * np.abs(z1).sum())\n",
    "        \n",
    "        '''\n",
    "        # Update the rho value as needed, see 3.4.1, varying penalty parameter\n",
    "        if norm_r > mu * norm_s:\n",
    "            rho *= tau_incr\n",
    "        if norm_s > mu * norm_r:\n",
    "            rho /= tau_decr\n",
    "        '''\n",
    "        \n",
    "        # Check for the stopping criterion\n",
    "        if norm_r <= e_pri and norm_s <= e_dual:\n",
    "            print (i)\n",
    "            return z1, Z, R, S, Ep, Ed, Obj\n",
    "    \n",
    "    print (i)\n",
    "    return z1, Z, R, S, Ep, Ed, Obj"
   ]
  },
  {
   "cell_type": "code",
   "execution_count": 7,
   "metadata": {
    "nbpresent": {
     "id": "0b3bc63a-635f-483f-a23e-215462762c5e"
    }
   },
   "outputs": [],
   "source": [
    "# Load in the Diabetes Data\n",
    "X = np.loadtxt('../../data/diabetesX.csv', skiprows=1, delimiter=',')\n",
    "Y = np.loadtxt('../../data/diabetesY.csv')\n",
    "X = scale(X)\n",
    "Y = scale(Y)\n",
    "N, P = X.shape"
   ]
  },
  {
   "cell_type": "code",
   "execution_count": 8,
   "metadata": {
    "nbpresent": {
     "id": "566d80ba-1645-4d0a-92ba-f646f94093bd"
    }
   },
   "outputs": [
    {
     "name": "stdout",
     "output_type": "stream",
     "text": [
      "23\n"
     ]
    }
   ],
   "source": [
    "# Calculate the ADMM\n",
    "z1, Z, R, S, Ep, Ed, Obj = ADMM(X, Y, np.zeros(P), np.zeros(P), np.zeros(P), lam=.2)"
   ]
  },
  {
   "cell_type": "code",
   "execution_count": 9,
   "metadata": {
    "nbpresent": {
     "id": "18649680-3e33-4252-9424-e2a7f7762223"
    }
   },
   "outputs": [
    {
     "data": {
      "image/png": "[encoded data removed]",
      "text/plain": [
       "<matplotlib.figure.Figure at 0x107844908>"
      ]
     },
     "metadata": {},
     "output_type": "display_data"
    },
    {
     "data": {
      "image/png": "[encoded data removed]",
      "text/plain": [
       "<matplotlib.figure.Figure at 0x1077e3860>"
      ]
     },
     "metadata": {},
     "output_type": "display_data"
    },
    {
     "data": {
      "image/png": "[encoded data removed]",
      "text/plain": [
       "<matplotlib.figure.Figure at 0x107769160>"
      ]
     },
     "metadata": {},
     "output_type": "display_data"
    }
   ],
   "source": [
    "plt.plot(Obj)\n",
    "plt.title('Convergence of the Objective Function')\n",
    "plt.xlabel('Number of iterations')\n",
    "plt.ylabel('Objective Value')\n",
    "plt.show()\n",
    "\n",
    "plt.plot(R)\n",
    "plt.title('Convergence of the primal residual, r')\n",
    "plt.xlabel('Number of iterations')\n",
    "plt.ylabel('Primal Residual')\n",
    "plt.show()\n",
    "\n",
    "plt.plot(S)\n",
    "plt.title('Convergence of the dual residual, s')\n",
    "plt.xlabel('Number of iterations')\n",
    "plt.ylabel('Dual Residual')\n",
    "plt.show()\n"
   ]
  },
  {
   "cell_type": "code",
   "execution_count": 13,
   "metadata": {
    "nbpresent": {
     "id": "4a131480-01ea-4bd8-aa11-2bb77b8912b5"
    }
   },
   "outputs": [
    {
     "name": "stdout",
     "output_type": "stream",
     "text": [
      "Final lambda for lasso path: 0.259210959438\n",
      "Infinity Norm of difference: 0.0353362926464\n",
      "Euclidean Norm of difference: 0.08469889846128897\n",
      "Mean elementwise difference: 0.00643981824305\n"
     ]
    }
   ],
   "source": [
    "a, b, c = lasso_path(X,Y)\n",
    "print (\"Final lambda for lasso path:\", a[-1] * N)\n",
    "\n",
    "print (\"Infinity Norm of difference:\", la.norm(b[:,-1] - z1, ord=np.inf))\n",
    "print (\"Euclidean Norm of difference:\", la.norm(b[:,-1]-z1))\n",
    "print (\"Mean elementwise difference:\", np.abs(b[:,-1] - z1).mean())"
   ]
  },
  {
   "cell_type": "code",
   "execution_count": null,
   "metadata": {
    "nbpresent": {
     "id": "1cbc72b8-d59f-41f9-9fe9-7abea00cb536"
    }
   },
   "outputs": [],
   "source": []
  }
 ],
 "metadata": {
  "kernelspec": {
   "display_name": "Python [conda root]",
   "language": "python",
   "name": "conda-root-py"
  },
  "language_info": {
   "codemirror_mode": {
    "name": "ipython",
    "version": 3
   },
   "file_extension": ".py",
   "mimetype": "text/x-python",
   "name": "python",
   "nbconvert_exporter": "python",
   "pygments_lexer": "ipython3",
   "version": "3.5.4"
  }
 },
 "nbformat": 4,
 "nbformat_minor": 2
}
